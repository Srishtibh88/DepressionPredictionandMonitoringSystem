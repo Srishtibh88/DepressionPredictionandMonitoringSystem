{
 "cells": [
  {
   "cell_type": "markdown",
   "metadata": {},
   "source": [
    "Importing libraries"
   ]
  },
  {
   "cell_type": "code",
   "execution_count": 1,
   "metadata": {},
   "outputs": [],
   "source": [
    "import json\n",
    "import pandas as pd\n",
    "import time\n",
    "import numpy as np\n",
    "import itertools\n",
    "import matplotlib.pyplot as plt \n",
    "from sklearn.metrics import confusion_matrix\n",
    "from sklearn.feature_extraction.text import CountVectorizer\n",
    "from sklearn import metrics"
   ]
  },
  {
   "cell_type": "markdown",
   "metadata": {},
   "source": [
    "Initializing some common variables"
   ]
  },
  {
   "cell_type": "code",
   "execution_count": 2,
   "metadata": {},
   "outputs": [],
   "source": [
    "tweets_data = []\n",
    "x = []\n",
    "y = []\n",
    "vectorizer = CountVectorizer(stop_words='english')"
   ]
  },
  {
   "cell_type": "code",
   "execution_count": 3,
   "metadata": {},
   "outputs": [],
   "source": [
    "# retrieving Tweets\n",
    "\n",
    "def retrieveTweet(data_url):\n",
    "\n",
    "    tweets_data_path = data_url\n",
    "    tweets_file = open(tweets_data_path, \"r\")\n",
    "    for line in tweets_file:\n",
    "        try:\n",
    "            tweet = json.loads(line)\n",
    "            tweets_data.append(tweet)\n",
    "        except:\n",
    "            continue"
   ]
  },
  {
   "cell_type": "code",
   "execution_count": 4,
   "metadata": {},
   "outputs": [],
   "source": [
    "# retrieving processed data\n",
    "\n",
    "def retrieveProcessedData(Pdata_url):\n",
    "    sent = pd.read_excel(Pdata_url)\n",
    "    for i in range(len(tweets_data)):\n",
    "        if tweets_data[i]['id']==sent['id'][i]:\n",
    "            x.append(tweets_data[i]['text'])\n",
    "            y.append(sent['sentiment'][i])"
   ]
  },
  {
   "cell_type": "markdown",
   "metadata": {},
   "source": [
    "**Naive Bayes Model**"
   ]
  },
  {
   "cell_type": "code",
   "execution_count": 5,
   "metadata": {},
   "outputs": [],
   "source": [
    "def nbTrain():\n",
    "    from sklearn.naive_bayes import MultinomialNB\n",
    "    start_timenb = time.time()\n",
    "    train_features = vectorizer.fit_transform(x)\n",
    "    \n",
    "    actual = y\n",
    "    \n",
    "    nb = MultinomialNB()\n",
    "    nb.fit(train_features, [int(r) for r in y])\n",
    "    \n",
    "    test_features = vectorizer.transform(x)\n",
    "    predictions = nb.predict(test_features)\n",
    "    fpr, tpr, thresholds = metrics.roc_curve(actual, predictions, pos_label=1)\n",
    "    nbscore = format(metrics.auc(fpr, tpr))\n",
    "    nbscore = float(nbscore)*100\n",
    "    \n",
    "    #nb_matrix = confusion_matrix(actual, predictions)\n",
    "    #plt.figure()\n",
    "    #plot_confusion_matrix(nb_matrix, classes=[-1,0,1], title='Confusion matrix For NB classifier')\n",
    "    \n",
    "    print(\"\\n\")\n",
    "\n",
    "    print(\"Naive Bayes  Accuracy : \\n\", nbscore,\"%\")\n",
    "    print(\" Completion Speed\", round((time.time() - start_timenb),5))\n",
    "    print()"
   ]
  },
  {
   "cell_type": "markdown",
   "metadata": {},
   "source": [
    "**Decision Tree**"
   ]
  },
  {
   "cell_type": "code",
   "execution_count": 6,
   "metadata": {},
   "outputs": [],
   "source": [
    "def datree():\n",
    "    from sklearn import tree\n",
    "    start_timedt = time.time()\n",
    "    train_featurestree = vectorizer.fit_transform(x)\n",
    "    actual1 = y\n",
    "    test_features1 = vectorizer.transform(x)\n",
    "    dtree = tree.DecisionTreeClassifier()\n",
    "    \n",
    "    dtree = dtree.fit(train_featurestree, [int(r) for r in y])\n",
    "    \n",
    "    prediction1 = dtree.predict(test_features1)\n",
    "    ddd, ttt, thresholds = metrics.roc_curve(actual1, prediction1, pos_label=1)\n",
    "    dtreescore = format(metrics.auc(ddd, ttt))\n",
    "    dtreescore = float(dtreescore)*100\n",
    "    print(\"Decision tree Accuracy : \\n\", dtreescore, \"%\")\n",
    "    print(\" Completion Speed\", round((time.time() - start_timedt),5))\n",
    "    print()"
   ]
  },
  {
   "cell_type": "markdown",
   "metadata": {},
   "source": [
    "**Support Vector Machine**"
   ]
  },
  {
   "cell_type": "code",
   "execution_count": 7,
   "metadata": {},
   "outputs": [],
   "source": [
    "def svm():\n",
    "    from sklearn.svm import SVC\n",
    "    start_timesvm = time.time()\n",
    "    train_featuressvm = vectorizer.fit_transform(x)\n",
    "    actual2 = y\n",
    "    test_features2 = vectorizer.transform(x)\n",
    "    svc = SVC()\n",
    "    \n",
    "    svc = svc.fit(train_featuressvm, [int(r) for r in y])\n",
    "    prediction2 = svc.predict(test_features2)\n",
    "    sss, vvv, thresholds = metrics.roc_curve(actual2, prediction2, pos_label=1)\n",
    "    svc = format(metrics.auc(sss, vvv))\n",
    "    svc = float(svc)*100\n",
    "    print(\"Support vector machine Accuracy : \\n\", svc, \"%\")\n",
    "    print(\" Completion Speed\", round((time.time() - start_timesvm),5))\n",
    "    print()"
   ]
  },
  {
   "cell_type": "markdown",
   "metadata": {},
   "source": [
    "**K-Nearest Neighbour**"
   ]
  },
  {
   "cell_type": "code",
   "execution_count": 8,
   "metadata": {},
   "outputs": [],
   "source": [
    "def knN():\n",
    "    from sklearn.neighbors import KNeighborsClassifier\n",
    "    start_timekn = time.time()\n",
    "    train_featureskn = vectorizer.fit_transform(x)\n",
    "    actual3 = y\n",
    "    test_features3 = vectorizer.transform(x)\n",
    "    kn = KNeighborsClassifier(n_neighbors=2)\n",
    "    \n",
    "    \n",
    "    kn = kn.fit(train_featureskn, [int(i) for i in y])\n",
    "    prediction3 = kn.predict(test_features3)\n",
    "    kkk, nnn, thresholds = metrics.roc_curve(actual3, prediction3, pos_label=1)\n",
    "    kn = format(metrics.auc(kkk, nnn))\n",
    "    kn = float(kn)*100\n",
    "    \n",
    "    print(\"Kneighborsclassifier Accuracy : \\n\", kn, \"%\")\n",
    "    print(\" Completion Speed\", round((time.time() - start_timekn),5))\n",
    "    print()"
   ]
  },
  {
   "cell_type": "markdown",
   "metadata": {},
   "source": [
    "**Random Forest**"
   ]
  },
  {
   "cell_type": "code",
   "execution_count": 9,
   "metadata": {},
   "outputs": [],
   "source": [
    "def RanFo():\n",
    "    from sklearn.ensemble import RandomForestClassifier\n",
    "    start_timerf = time.time()\n",
    "    train_featuresrf = vectorizer.fit_transform(x)\n",
    "    actual4 = y\n",
    "    test_features4 = vectorizer.transform(x)\n",
    "    rf = RandomForestClassifier(max_depth=2, random_state=0)\n",
    "    \n",
    "    \n",
    "    rf = rf.fit(train_featuresrf, [int(i) for i in y])\n",
    "    prediction4 = rf.predict(test_features4)\n",
    "    rrr, fff, thresholds = metrics.roc_curve(actual4, prediction4, pos_label=1)\n",
    "    kn = format(metrics.auc(rrr, fff))\n",
    "    kn = float(kn)*100\n",
    "    print(\"Random Forest Accuracy : \\n\", kn, \"%\")\n",
    "    print(\" Completion Speed\", round((time.time() - start_timerf),5))\n",
    "    print()\n",
    "    print()"
   ]
  },
  {
   "cell_type": "markdown",
   "metadata": {},
   "source": [
    "**Exection of all modules**"
   ]
  },
  {
   "cell_type": "code",
   "execution_count": 10,
   "metadata": {},
   "outputs": [],
   "source": [
    "# Calling to retrieve data \n",
    "\n",
    "retrieveTweet('data/tweetdata.txt')  \n",
    "retrieveProcessedData('processed_data/output.xlsx')"
   ]
  },
  {
   "cell_type": "code",
   "execution_count": 11,
   "metadata": {},
   "outputs": [
    {
     "name": "stdout",
     "output_type": "stream",
     "text": [
      "\n",
      "\n",
      "Naive Bayes  Accuracy : \n",
      " 93.79406648429645 %\n",
      " Completion Speed 0.32581\n",
      "\n"
     ]
    }
   ],
   "source": [
    "# Naive Bayes Algorithm\n",
    "\n",
    "nbTrain()"
   ]
  },
  {
   "cell_type": "code",
   "execution_count": 12,
   "metadata": {},
   "outputs": [
    {
     "name": "stdout",
     "output_type": "stream",
     "text": [
      "Decision tree Accuracy : \n",
      " 98.55668748040587 %\n",
      " Completion Speed 1.37464\n",
      "\n"
     ]
    }
   ],
   "source": [
    "# Decision Tree Algorithm\n",
    "\n",
    "datree()"
   ]
  },
  {
   "cell_type": "code",
   "execution_count": 13,
   "metadata": {},
   "outputs": [
    {
     "name": "stdout",
     "output_type": "stream",
     "text": [
      "Support vector machine Accuracy : \n",
      " 93.62738823407057 %\n",
      " Completion Speed 11.39232\n",
      "\n"
     ]
    }
   ],
   "source": [
    "# Support Vector Machine\n",
    "\n",
    "svm()"
   ]
  },
  {
   "cell_type": "code",
   "execution_count": 14,
   "metadata": {},
   "outputs": [
    {
     "name": "stdout",
     "output_type": "stream",
     "text": [
      "Kneighborsclassifier Accuracy : \n",
      " 81.464022923447 %\n",
      " Completion Speed 2.52903\n",
      "\n"
     ]
    }
   ],
   "source": [
    "# K-Nearest Neighbour\n",
    "\n",
    "knN()"
   ]
  },
  {
   "cell_type": "code",
   "execution_count": 15,
   "metadata": {},
   "outputs": [
    {
     "name": "stdout",
     "output_type": "stream",
     "text": [
      "Random Forest Accuracy : \n",
      " 46.92481190883222 %\n",
      " Completion Speed 0.53471\n",
      "\n",
      "\n"
     ]
    }
   ],
   "source": [
    "# Random Forest\n",
    "\n",
    "RanFo()"
   ]
  }
 ],
 "metadata": {
  "kernelspec": {
   "display_name": "Python 3",
   "language": "python",
   "name": "python3"
  },
  "language_info": {
   "codemirror_mode": {
    "name": "ipython",
    "version": 3
   },
   "file_extension": ".py",
   "mimetype": "text/x-python",
   "name": "python",
   "nbconvert_exporter": "python",
   "pygments_lexer": "ipython3",
   "version": "3.6.8"
  }
 },
 "nbformat": 4,
 "nbformat_minor": 4
}
